{
 "cells": [
  {
   "cell_type": "markdown",
   "metadata": {},
   "source": [
    "# Supervised Learning Classification"
   ]
  },
  {
   "cell_type": "markdown",
   "metadata": {},
   "source": [
    "Sử dụng một vài thuật toán đã học cho bộ dữ liệu ở Bài tập 1 để dự đoán nhãn của hoa cho những dòng bị thiếu nhãn dựa trên 4 thuộc tính còn lại, so sánh kết quả accuracy và F1 score"
   ]
  },
  {
   "cell_type": "markdown",
   "metadata": {},
   "source": [
    "Sử dụng 4 thuật toán:\n",
    "\n",
    "\n",
    "- KNN \n",
    "- Logistic Regression\n",
    "- SVM\n",
    "- Random forests"
   ]
  },
  {
   "cell_type": "code",
   "execution_count": 130,
   "metadata": {},
   "outputs": [],
   "source": [
    "import pandas as pd \n",
    "data = pd.read_csv('P4AI_BT1.csv')\n"
   ]
  },
  {
   "cell_type": "code",
   "execution_count": 131,
   "metadata": {},
   "outputs": [],
   "source": [
    "from sklearn.preprocessing import MinMaxScaler\n",
    "from sklearn.impute import SimpleImputer \n",
    "scaler = MinMaxScaler() \n",
    "\n",
    "# strategy(chiến lược): lựa chọn phương pháp để điền dữ liệu còn thiếu \n",
    "# đối với dữ liệu liên tục thì sử dụng phương pháp trung bình cộng\n",
    "# đối với dữ liệu rời rạc thì sử sụng phương pháp tần số cao nhất\n",
    "\n",
    "imputer = SimpleImputer(strategy='mean') \n",
    "\n",
    "df1 = data.drop('variety', axis=1)\n",
    "col_name = df1.columns\n",
    "df1 = imputer.fit_transform(df1)\n",
    "df1 = pd.DataFrame(df1, columns= col_name)"
   ]
  },
  {
   "cell_type": "code",
   "execution_count": 132,
   "metadata": {},
   "outputs": [
    {
     "data": {
      "text/plain": [
       "Virginica     46\n",
       "Setosa        45\n",
       "Versicolor    44\n",
       "Name: variety, dtype: int64"
      ]
     },
     "execution_count": 132,
     "metadata": {},
     "output_type": "execute_result"
    }
   ],
   "source": [
    "data = pd.concat([df1,data['variety']], axis=1)\n",
    "data['variety'].value_counts()"
   ]
  },
  {
   "cell_type": "code",
   "execution_count": 133,
   "metadata": {},
   "outputs": [
    {
     "data": {
      "text/html": [
       "<div>\n",
       "<style scoped>\n",
       "    .dataframe tbody tr th:only-of-type {\n",
       "        vertical-align: middle;\n",
       "    }\n",
       "\n",
       "    .dataframe tbody tr th {\n",
       "        vertical-align: top;\n",
       "    }\n",
       "\n",
       "    .dataframe thead th {\n",
       "        text-align: right;\n",
       "    }\n",
       "</style>\n",
       "<table border=\"1\" class=\"dataframe\">\n",
       "  <thead>\n",
       "    <tr style=\"text-align: right;\">\n",
       "      <th></th>\n",
       "      <th>sepal.length</th>\n",
       "      <th>sepal.width</th>\n",
       "      <th>petal.length</th>\n",
       "      <th>petal.width</th>\n",
       "    </tr>\n",
       "  </thead>\n",
       "  <tbody>\n",
       "    <tr>\n",
       "      <th>9</th>\n",
       "      <td>4.9</td>\n",
       "      <td>3.100000</td>\n",
       "      <td>1.5</td>\n",
       "      <td>0.1</td>\n",
       "    </tr>\n",
       "    <tr>\n",
       "      <th>11</th>\n",
       "      <td>4.8</td>\n",
       "      <td>3.054815</td>\n",
       "      <td>1.6</td>\n",
       "      <td>0.2</td>\n",
       "    </tr>\n",
       "    <tr>\n",
       "      <th>17</th>\n",
       "      <td>5.1</td>\n",
       "      <td>3.500000</td>\n",
       "      <td>1.4</td>\n",
       "      <td>0.3</td>\n",
       "    </tr>\n",
       "    <tr>\n",
       "      <th>27</th>\n",
       "      <td>5.2</td>\n",
       "      <td>3.500000</td>\n",
       "      <td>1.5</td>\n",
       "      <td>0.2</td>\n",
       "    </tr>\n",
       "    <tr>\n",
       "      <th>33</th>\n",
       "      <td>5.5</td>\n",
       "      <td>4.200000</td>\n",
       "      <td>1.4</td>\n",
       "      <td>0.2</td>\n",
       "    </tr>\n",
       "    <tr>\n",
       "      <th>50</th>\n",
       "      <td>7.0</td>\n",
       "      <td>3.200000</td>\n",
       "      <td>4.7</td>\n",
       "      <td>1.4</td>\n",
       "    </tr>\n",
       "    <tr>\n",
       "      <th>68</th>\n",
       "      <td>6.2</td>\n",
       "      <td>2.200000</td>\n",
       "      <td>4.5</td>\n",
       "      <td>1.5</td>\n",
       "    </tr>\n",
       "    <tr>\n",
       "      <th>70</th>\n",
       "      <td>5.9</td>\n",
       "      <td>3.200000</td>\n",
       "      <td>4.8</td>\n",
       "      <td>1.8</td>\n",
       "    </tr>\n",
       "    <tr>\n",
       "      <th>71</th>\n",
       "      <td>6.1</td>\n",
       "      <td>2.800000</td>\n",
       "      <td>4.0</td>\n",
       "      <td>1.3</td>\n",
       "    </tr>\n",
       "    <tr>\n",
       "      <th>81</th>\n",
       "      <td>5.5</td>\n",
       "      <td>2.400000</td>\n",
       "      <td>3.7</td>\n",
       "      <td>1.0</td>\n",
       "    </tr>\n",
       "    <tr>\n",
       "      <th>91</th>\n",
       "      <td>6.1</td>\n",
       "      <td>3.000000</td>\n",
       "      <td>4.6</td>\n",
       "      <td>1.4</td>\n",
       "    </tr>\n",
       "    <tr>\n",
       "      <th>115</th>\n",
       "      <td>6.4</td>\n",
       "      <td>3.200000</td>\n",
       "      <td>5.3</td>\n",
       "      <td>2.3</td>\n",
       "    </tr>\n",
       "    <tr>\n",
       "      <th>118</th>\n",
       "      <td>7.7</td>\n",
       "      <td>2.600000</td>\n",
       "      <td>6.9</td>\n",
       "      <td>2.3</td>\n",
       "    </tr>\n",
       "    <tr>\n",
       "      <th>122</th>\n",
       "      <td>7.7</td>\n",
       "      <td>2.800000</td>\n",
       "      <td>6.7</td>\n",
       "      <td>2.0</td>\n",
       "    </tr>\n",
       "    <tr>\n",
       "      <th>144</th>\n",
       "      <td>6.7</td>\n",
       "      <td>3.054815</td>\n",
       "      <td>5.7</td>\n",
       "      <td>2.5</td>\n",
       "    </tr>\n",
       "  </tbody>\n",
       "</table>\n",
       "</div>"
      ],
      "text/plain": [
       "     sepal.length  sepal.width  petal.length  petal.width\n",
       "9             4.9     3.100000           1.5          0.1\n",
       "11            4.8     3.054815           1.6          0.2\n",
       "17            5.1     3.500000           1.4          0.3\n",
       "27            5.2     3.500000           1.5          0.2\n",
       "33            5.5     4.200000           1.4          0.2\n",
       "50            7.0     3.200000           4.7          1.4\n",
       "68            6.2     2.200000           4.5          1.5\n",
       "70            5.9     3.200000           4.8          1.8\n",
       "71            6.1     2.800000           4.0          1.3\n",
       "81            5.5     2.400000           3.7          1.0\n",
       "91            6.1     3.000000           4.6          1.4\n",
       "115           6.4     3.200000           5.3          2.3\n",
       "118           7.7     2.600000           6.9          2.3\n",
       "122           7.7     2.800000           6.7          2.0\n",
       "144           6.7     3.054815           5.7          2.5"
      ]
     },
     "execution_count": 133,
     "metadata": {},
     "output_type": "execute_result"
    }
   ],
   "source": [
    "# ý tưởng chia tập dữ liệu ra thành 2 bộ dữ liệu\n",
    "# labeled_df sẽ là bộ dữ liệu được sử dụng để train: \n",
    "# bao gồm tất cả các dữ liệu đã được gán nhãn sẵn\n",
    "# unlabeled_df sẽ là bộ dữ liệu chưa được gắn nhãn\n",
    "# yêu cầu: gắn nhẵn cho bộ dữ liệu test_data\n",
    "\n",
    "labeled_df = data.dropna(subset=['variety'])\n",
    "unlabeled_df = data[data['variety'].isna()]\n",
    "unlabeled_df = unlabeled_df.drop('variety', axis = 1 )\n",
    "unlabeled_df"
   ]
  },
  {
   "cell_type": "code",
   "execution_count": 134,
   "metadata": {},
   "outputs": [
    {
     "data": {
      "image/png": "[encoded data removed]",
      "text/plain": [
       "<Figure size 640x480 with 1 Axes>"
      ]
     },
     "metadata": {},
     "output_type": "display_data"
    }
   ],
   "source": [
    "import matplotlib.pyplot as plt \n",
    "x = labeled_df['variety'].value_counts().index.to_numpy() \n",
    "y = labeled_df['variety'].value_counts().to_numpy()\n",
    "\n",
    "plt.bar(x,y,color = 'red')\n",
    "plt.show()"
   ]
  },
  {
   "cell_type": "code",
   "execution_count": 135,
   "metadata": {},
   "outputs": [
    {
     "name": "stderr",
     "output_type": "stream",
     "text": [
      "C:\\Users\\Admin\\AppData\\Local\\Temp\\ipykernel_14844\\2262746246.py:5: SettingWithCopyWarning: \n",
      "A value is trying to be set on a copy of a slice from a DataFrame.\n",
      "Try using .loc[row_indexer,col_indexer] = value instead\n",
      "\n",
      "See the caveats in the documentation: https://pandas.pydata.org/pandas-docs/stable/user_guide/indexing.html#returning-a-view-versus-a-copy\n",
      "  labeled_df['variety'] = encoder.fit_transform(labeled_df['variety'])\n"
     ]
    },
    {
     "data": {
      "text/plain": [
       "2    46\n",
       "0    45\n",
       "1    44\n",
       "Name: variety, dtype: int64"
      ]
     },
     "execution_count": 135,
     "metadata": {},
     "output_type": "execute_result"
    }
   ],
   "source": [
    "from sklearn.preprocessing import LabelEncoder \n",
    "\n",
    "encoder = LabelEncoder() \n",
    "\n",
    "labeled_df['variety'] = encoder.fit_transform(labeled_df['variety'])\n",
    "labeled_df['variety'].value_counts()\n"
   ]
  },
  {
   "cell_type": "code",
   "execution_count": 136,
   "metadata": {},
   "outputs": [],
   "source": [
    "# tập dữ liệu labeled_df sẽ được sử dụng để train mô hình\n",
    "# trong đó lại chia nhỏ tập train_data làm 2 tập train_data và test_data \n",
    "# để đo độ chính xác của mô hình\n",
    "\n",
    "\n",
    "from sklearn.model_selection import train_test_split \n",
    "\n",
    "X_train, X_test, y_train, y_test = train_test_split(\n",
    "    labeled_df.iloc[:, :-1], labeled_df.iloc[:, -1], test_size=0.2, random_state=42\n",
    ")"
   ]
  },
  {
   "cell_type": "code",
   "execution_count": 137,
   "metadata": {},
   "outputs": [
    {
     "data": {
      "text/html": [
       "<div>\n",
       "<style scoped>\n",
       "    .dataframe tbody tr th:only-of-type {\n",
       "        vertical-align: middle;\n",
       "    }\n",
       "\n",
       "    .dataframe tbody tr th {\n",
       "        vertical-align: top;\n",
       "    }\n",
       "\n",
       "    .dataframe thead th {\n",
       "        text-align: right;\n",
       "    }\n",
       "</style>\n",
       "<table border=\"1\" class=\"dataframe\">\n",
       "  <thead>\n",
       "    <tr style=\"text-align: right;\">\n",
       "      <th></th>\n",
       "      <th>sepal.length</th>\n",
       "      <th>sepal.width</th>\n",
       "      <th>petal.length</th>\n",
       "      <th>petal.width</th>\n",
       "    </tr>\n",
       "  </thead>\n",
       "  <tbody>\n",
       "    <tr>\n",
       "      <th>13</th>\n",
       "      <td>4.300000</td>\n",
       "      <td>3.000000</td>\n",
       "      <td>1.100000</td>\n",
       "      <td>0.1</td>\n",
       "    </tr>\n",
       "    <tr>\n",
       "      <th>137</th>\n",
       "      <td>6.400000</td>\n",
       "      <td>3.100000</td>\n",
       "      <td>5.500000</td>\n",
       "      <td>1.8</td>\n",
       "    </tr>\n",
       "    <tr>\n",
       "      <th>90</th>\n",
       "      <td>5.852593</td>\n",
       "      <td>2.600000</td>\n",
       "      <td>4.400000</td>\n",
       "      <td>1.2</td>\n",
       "    </tr>\n",
       "    <tr>\n",
       "      <th>116</th>\n",
       "      <td>6.500000</td>\n",
       "      <td>3.000000</td>\n",
       "      <td>5.500000</td>\n",
       "      <td>1.8</td>\n",
       "    </tr>\n",
       "    <tr>\n",
       "      <th>94</th>\n",
       "      <td>5.600000</td>\n",
       "      <td>2.700000</td>\n",
       "      <td>4.200000</td>\n",
       "      <td>1.3</td>\n",
       "    </tr>\n",
       "    <tr>\n",
       "      <th>...</th>\n",
       "      <td>...</td>\n",
       "      <td>...</td>\n",
       "      <td>...</td>\n",
       "      <td>...</td>\n",
       "    </tr>\n",
       "    <tr>\n",
       "      <th>80</th>\n",
       "      <td>5.500000</td>\n",
       "      <td>2.400000</td>\n",
       "      <td>3.800000</td>\n",
       "      <td>1.1</td>\n",
       "    </tr>\n",
       "    <tr>\n",
       "      <th>119</th>\n",
       "      <td>6.000000</td>\n",
       "      <td>2.200000</td>\n",
       "      <td>5.000000</td>\n",
       "      <td>1.5</td>\n",
       "    </tr>\n",
       "    <tr>\n",
       "      <th>16</th>\n",
       "      <td>5.400000</td>\n",
       "      <td>3.900000</td>\n",
       "      <td>1.300000</td>\n",
       "      <td>0.4</td>\n",
       "    </tr>\n",
       "    <tr>\n",
       "      <th>103</th>\n",
       "      <td>6.300000</td>\n",
       "      <td>3.054815</td>\n",
       "      <td>5.600000</td>\n",
       "      <td>1.8</td>\n",
       "    </tr>\n",
       "    <tr>\n",
       "      <th>113</th>\n",
       "      <td>5.700000</td>\n",
       "      <td>2.500000</td>\n",
       "      <td>3.719259</td>\n",
       "      <td>2.0</td>\n",
       "    </tr>\n",
       "  </tbody>\n",
       "</table>\n",
       "<p>108 rows × 4 columns</p>\n",
       "</div>"
      ],
      "text/plain": [
       "     sepal.length  sepal.width  petal.length  petal.width\n",
       "13       4.300000     3.000000      1.100000          0.1\n",
       "137      6.400000     3.100000      5.500000          1.8\n",
       "90       5.852593     2.600000      4.400000          1.2\n",
       "116      6.500000     3.000000      5.500000          1.8\n",
       "94       5.600000     2.700000      4.200000          1.3\n",
       "..            ...          ...           ...          ...\n",
       "80       5.500000     2.400000      3.800000          1.1\n",
       "119      6.000000     2.200000      5.000000          1.5\n",
       "16       5.400000     3.900000      1.300000          0.4\n",
       "103      6.300000     3.054815      5.600000          1.8\n",
       "113      5.700000     2.500000      3.719259          2.0\n",
       "\n",
       "[108 rows x 4 columns]"
      ]
     },
     "execution_count": 137,
     "metadata": {},
     "output_type": "execute_result"
    }
   ],
   "source": [
    "X_train\n"
   ]
  },
  {
   "cell_type": "code",
   "execution_count": 138,
   "metadata": {},
   "outputs": [],
   "source": [
    "from sklearn.linear_model import LogisticRegression\n",
    "from sklearn.metrics import confusion_matrix\n",
    "from sklearn.metrics import accuracy_score\n",
    "from sklearn.metrics import f1_score"
   ]
  },
  {
   "cell_type": "code",
   "execution_count": 139,
   "metadata": {},
   "outputs": [
    {
     "name": "stdout",
     "output_type": "stream",
     "text": [
      "LR classification accuracy: 0.8888888888888888\n",
      "LR f1 score: 0.8642533936651584\n"
     ]
    },
    {
     "name": "stderr",
     "output_type": "stream",
     "text": [
      "c:\\Users\\Admin\\AppData\\Local\\Programs\\Python\\Python310\\lib\\site-packages\\sklearn\\linear_model\\_logistic.py:458: ConvergenceWarning: lbfgs failed to converge (status=1):\n",
      "STOP: TOTAL NO. of ITERATIONS REACHED LIMIT.\n",
      "\n",
      "Increase the number of iterations (max_iter) or scale the data as shown in:\n",
      "    https://scikit-learn.org/stable/modules/preprocessing.html\n",
      "Please also refer to the documentation for alternative solver options:\n",
      "    https://scikit-learn.org/stable/modules/linear_model.html#logistic-regression\n",
      "  n_iter_i = _check_optimize_result(\n"
     ]
    }
   ],
   "source": [
    "import pickle\n",
    "\n",
    "# Huấn luyện mô hình\n",
    "regressor = LogisticRegression()\n",
    "regressor.fit(X_train, y_train)\n",
    "\n",
    "# Dự đoán\n",
    "predictions = regressor.predict(X_test)\n",
    "\n",
    "# Đánh giá\n",
    "accuracy = accuracy_score(y_test, predictions)\n",
    "f1 = f1_score(y_test, predictions, average=\"macro\")\n",
    "\n",
    "# In kết quả đánh giá\n",
    "print(\"LR classification accuracy:\", accuracy)\n",
    "print(\"LR f1 score:\", f1)\n",
    "\n",
    "# Lưu mô hình thành tệp tin .pkl\n",
    "with open('model.pkl', 'wb') as file:\n",
    "    pickle.dump(regressor, file)\n"
   ]
  },
  {
   "cell_type": "code",
   "execution_count": 140,
   "metadata": {},
   "outputs": [],
   "source": [
    "unlabeled_df.to_csv('unlabeled_data')"
   ]
  },
  {
   "cell_type": "code",
   "execution_count": 141,
   "metadata": {},
   "outputs": [],
   "source": [
    "import pickle\n",
    "\n",
    "Pkl_Filename = \"model.pkl\"  \n",
    "\n",
    "with open(Pkl_Filename, 'rb') as file:  \n",
    "    model = pickle.load(file)"
   ]
  },
  {
   "cell_type": "code",
   "execution_count": 142,
   "metadata": {},
   "outputs": [],
   "source": [
    "nameToInc = {\n",
    "    \"Setosa\": 0,\n",
    "    \"Versicolor\": 1,\n",
    "    \"Virginica\": 2\n",
    "}\n",
    "\n",
    "incToName = {\n",
    "    \"0\": \"Setosa\",\n",
    "    \"1\": \"Versicolor\",\n",
    "    \"2\": \"Virginica\"\n",
    "}"
   ]
  },
  {
   "cell_type": "code",
   "execution_count": 146,
   "metadata": {},
   "outputs": [],
   "source": [
    "x_test = pd.read_csv('unlabeled_data').drop(\"Unnamed: 0\", axis=1)\n",
    "y = model.predict(x_test) "
   ]
  },
  {
   "cell_type": "code",
   "execution_count": 153,
   "metadata": {},
   "outputs": [],
   "source": [
    "y\n",
    "\n",
    "species_names = [incToName[str(label)] for label in y]\n",
    "\n",
    "variety = pd.DataFrame(species_names, columns=['variety'])\n",
    "\n",
    "predict_data = pd.concat([x_test, variety], axis=1)\n",
    "predict_data.to_csv('labeled_data')\n"
   ]
  }
 ],
 "metadata": {
  "kernelspec": {
   "display_name": "Python 3",
   "language": "python",
   "name": "python3"
  },
  "language_info": {
   "codemirror_mode": {
    "name": "ipython",
    "version": 3
   },
   "file_extension": ".py",
   "mimetype": "text/x-python",
   "name": "python",
   "nbconvert_exporter": "python",
   "pygments_lexer": "ipython3",
   "version": "3.10.5"
  },
  "orig_nbformat": 4
 },
 "nbformat": 4,
 "nbformat_minor": 2
}
